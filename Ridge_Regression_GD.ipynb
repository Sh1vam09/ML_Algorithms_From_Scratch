{
  "nbformat": 4,
  "nbformat_minor": 0,
  "metadata": {
    "colab": {
      "provenance": []
    },
    "kernelspec": {
      "name": "python3",
      "display_name": "Python 3"
    },
    "language_info": {
      "name": "python"
    }
  },
  "cells": [
    {
      "cell_type": "code",
      "execution_count": 293,
      "metadata": {
        "id": "lb8MmewX4HNL"
      },
      "outputs": [],
      "source": [
        "import numpy as np\n",
        "import pandas as pd\n",
        "from sklearn.model_selection import train_test_split\n",
        "import random\n",
        "from sklearn.datasets import make_regression"
      ]
    },
    {
      "cell_type": "code",
      "source": [
        "X,y=make_regression(n_samples=150,n_features=3,n_informative=3,n_targets=1,noise=40,random_state=42)"
      ],
      "metadata": {
        "id": "7B5VagdN4gc-"
      },
      "execution_count": 309,
      "outputs": []
    },
    {
      "cell_type": "code",
      "source": [
        "X.shape\n"
      ],
      "metadata": {
        "colab": {
          "base_uri": "https://localhost:8080/"
        },
        "id": "defoV1-u5IX6",
        "outputId": "07e27096-849d-4e44-c390-7a0d2da32c1d"
      },
      "execution_count": 310,
      "outputs": [
        {
          "output_type": "execute_result",
          "data": {
            "text/plain": [
              "(150, 3)"
            ]
          },
          "metadata": {},
          "execution_count": 310
        }
      ]
    },
    {
      "cell_type": "code",
      "source": [
        "y.shape"
      ],
      "metadata": {
        "colab": {
          "base_uri": "https://localhost:8080/"
        },
        "id": "frrgdyRH5mgB",
        "outputId": "f7e1b1d1-a3c1-469b-bc4f-9a48cc5a5adf"
      },
      "execution_count": 311,
      "outputs": [
        {
          "output_type": "execute_result",
          "data": {
            "text/plain": [
              "(150,)"
            ]
          },
          "metadata": {},
          "execution_count": 311
        }
      ]
    },
    {
      "cell_type": "code",
      "source": [
        "from sklearn.linear_model import Ridge\n",
        "ridge1=Ridge(alpha=10,max_iter=100,solver='saga')\n",
        "ridge1.fit(X,y)\n",
        "print(ridge1.coef_)\n",
        "ridge1.intercept_\n"
      ],
      "metadata": {
        "colab": {
          "base_uri": "https://localhost:8080/"
        },
        "id": "mHZ1kVjw5qSQ",
        "outputId": "bd5e183a-fc9d-4316-9a8a-b7de95b78e32"
      },
      "execution_count": 337,
      "outputs": [
        {
          "output_type": "stream",
          "name": "stdout",
          "text": [
            "[44.78665336 64.81944852 80.45148137]\n"
          ]
        },
        {
          "output_type": "execute_result",
          "data": {
            "text/plain": [
              "-2.6681376907188583"
            ]
          },
          "metadata": {},
          "execution_count": 337
        }
      ]
    },
    {
      "cell_type": "code",
      "source": [
        "class RidgeGD:\n",
        "  def __init__(self,alpha=0,epochs=100,learning_rate=0.01):\n",
        "    self.alpha=alpha\n",
        "    self.coef_=None\n",
        "    self.intercept_=None\n",
        "    self.epochs=epochs\n",
        "    self.learning_rate=learning_rate\n",
        "  def fit(self,x_train,y_train):\n",
        "    self.coef_=np.ones(x_train.shape[1])\n",
        "    x_train=np.insert(x_train,0,1,axis=1)\n",
        "    self.intercept_=0\n",
        "    beta=np.insert(self.coef_,0,self.intercept_)\n",
        "    for i in range(self.epochs):\n",
        "      beta_slope=np.dot(x_train.T,x_train).dot(beta) - np.dot(x_train.T,y_train)+self.alpha*beta\n",
        "      beta=beta-(self.learning_rate*beta_slope)\n",
        "\n",
        "    self.coef_=beta[1:]\n",
        "    self.intercept_=beta[0]\n",
        "\n",
        "  def predict(self,x_test):\n",
        "    return (np.dot(self.coef_,x_test))+self.intercept_"
      ],
      "metadata": {
        "id": "_vGQnLE77Pau"
      },
      "execution_count": 330,
      "outputs": []
    },
    {
      "cell_type": "code",
      "source": [
        "ridge=RidgeGD(alpha=10,epochs=100)\n",
        "ridge.fit(X,y)\n",
        "print(ridge.coef_)\n",
        "ridge.intercept_"
      ],
      "metadata": {
        "colab": {
          "base_uri": "https://localhost:8080/"
        },
        "id": "iUpLCmFbBpeJ",
        "outputId": "a7f1821e-ecfd-4c49-bc6c-bf2ba2dd3e28"
      },
      "execution_count": 331,
      "outputs": [
        {
          "output_type": "stream",
          "name": "stdout",
          "text": [
            "[44.8212986  64.78602623 80.43628504]\n"
          ]
        },
        {
          "output_type": "execute_result",
          "data": {
            "text/plain": [
              "-2.512988230820015"
            ]
          },
          "metadata": {},
          "execution_count": 331
        }
      ]
    }
  ]
}